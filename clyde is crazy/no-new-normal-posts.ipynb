{
 "cells": [
  {
   "cell_type": "code",
   "execution_count": null,
   "metadata": {},
   "outputs": [],
   "source": [
    "import pandas as pd\n",
    "import numpy as np\n",
    "# df = pd.read_csv('./no-new-normal/archive/no-new-normal-posts.csv')\n",
    "# len(df) #121113\n",
    "# remove duplicates in 'title'\n",
    "# df = df.drop_duplicates('title', keep='last')\n",
    "# df = df.dropna(subset=['title']) #safety since excel reports blanks\n",
    "# df = df.drop(df[df.title == \"[removed]\"].index)\n",
    "# len(df) #115874\n",
    "# df=df.sample(n=10000)\n",
    "# len(df) #10k\n",
    "# df.to_csv('no-new-normal-posts-10ksamples.csv')"
   ]
  },
  {
   "cell_type": "code",
   "execution_count": null,
   "metadata": {},
   "outputs": [],
   "source": [
    "import nltk\n",
    "import re\n",
    "from nltk.tokenize import word_tokenize\n",
    "import nltk.corpus\n",
    "# nltk.download(stopwords)\n",
    "from nltk.corpus import stopwords\n",
    "\n",
    "def removals(text):\n",
    "    text=re.sub(r'\\w+:\\/{2}[\\d\\w-]+(\\.[\\d\\w-]+)*(?:(?:\\/[^\\s/]*))*', '', text) #remove url\n",
    "    text=re.sub(r'[^\\w\\s]','',text) #idk this regex tbh\n",
    "    text=text.replace('\\n',' ')\n",
    "    text=text.replace('_','')\n",
    "    text=text.replace('\\t',' ')\n",
    "    text=text.replace('\\r',' ')\n",
    "    #fsr naay stray \"gt\"s nga doesnt seem to have a pattern so pang safety lng\n",
    "    # text=text.replace('gt',' ')\n",
    "    # https://stackoverflow.com/questions/33404752/removing-emojis-from-a-string-in-python\n",
    "    emoji_pattern = re.compile(\"[\"\n",
    "                           u\"\\U0001F600-\\U0001F64F\"  # emoticons\n",
    "                           u\"\\U0001F300-\\U0001F5FF\"  # symbols & pictographs\n",
    "                           u\"\\U0001F680-\\U0001F6FF\"  # transport & map symbols\n",
    "                           u\"\\U0001F1E0-\\U0001F1FF\"  # flags (iOS)\n",
    "                           u\"\\U00002702-\\U000027B0\"\n",
    "                           u\"\\U000024C2-\\U0001F251\"\n",
    "                           \"]+\", flags=re.UNICODE)\n",
    "    text=emoji_pattern.sub(r'', text)\n",
    "    \n",
    "    return text\n",
    "\n",
    "# def stopper(toks):\n",
    "#     stops=[]\n",
    "#     for v in toks:\n",
    "#             if v not in stop_words:\n",
    "#                 stops.append(v)\n",
    "#     return stops\n",
    "\n",
    "stop_words = stopwords.words('english')\n",
    "df = pd.read_csv('./no-new-normal-posts-10ksamples.csv')\n",
    "df['title']=df['title'].str.lower()\n",
    "df['title']=df['title'].apply(removals)\n",
    "# print(df['title'])\n",
    "# df['title']=df['title'].apply(word_tokenize)\n",
    "# df['title']=df['title'].apply(stopper)\n",
    "df"
   ]
  }
 ],
 "metadata": {
  "interpreter": {
   "hash": "b4435dba582f12fd74fc0bc315c10d696fd8adcb63a595232f72ee74dca3934d"
  },
  "kernelspec": {
   "display_name": "Python 3.9.4 64-bit (system)",
   "name": "python3"
  },
  "language_info": {
   "codemirror_mode": {
    "name": "ipython",
    "version": 3
   },
   "file_extension": ".py",
   "mimetype": "text/x-python",
   "name": "python",
   "nbconvert_exporter": "python",
   "pygments_lexer": "ipython3",
   "version": "3.9.4"
  },
  "orig_nbformat": 4
 },
 "nbformat": 4,
 "nbformat_minor": 2
}
